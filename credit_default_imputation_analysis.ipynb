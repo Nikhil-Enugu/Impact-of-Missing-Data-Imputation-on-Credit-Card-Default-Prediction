{
 "cells": [
  {
   "cell_type": "markdown",
   "id": "047c8951",
   "metadata": {},
   "source": [
    "### Imports"
   ]
  },
  {
   "cell_type": "code",
   "execution_count": 1,
   "id": "48b81ad3",
   "metadata": {},
   "outputs": [],
   "source": [
    "import pandas as pd\n",
    "import numpy as np\n",
    "import matplotlib.pyplot as plt\n",
    "from sklearn.model_selection import train_test_split\n",
    "from sklearn.linear_model import LinearRegression,LogisticRegression\n",
    "from sklearn.tree import DecisionTreeRegressor\n",
    "from sklearn.preprocessing import StandardScaler\n",
    "from sklearn.metrics import accuracy_score, precision_score, recall_score, f1_score, classification_report"
   ]
  },
  {
   "cell_type": "markdown",
   "id": "dc2a25be",
   "metadata": {},
   "source": [
    "### Part A: Data Preprocessing and Imputation"
   ]
  },
  {
   "cell_type": "markdown",
   "id": "1fd3abbe",
   "metadata": {},
   "source": [
    "#### 1. Load and Prepare Data"
   ]
  },
  {
   "cell_type": "code",
   "execution_count": 2,
   "id": "6d3cb829",
   "metadata": {},
   "outputs": [
    {
     "name": "stdout",
     "output_type": "stream",
     "text": [
      "Original shape: (30000, 25)\n"
     ]
    },
    {
     "data": {
      "text/html": [
       "<div>\n",
       "<style scoped>\n",
       "    .dataframe tbody tr th:only-of-type {\n",
       "        vertical-align: middle;\n",
       "    }\n",
       "\n",
       "    .dataframe tbody tr th {\n",
       "        vertical-align: top;\n",
       "    }\n",
       "\n",
       "    .dataframe thead th {\n",
       "        text-align: right;\n",
       "    }\n",
       "</style>\n",
       "<table border=\"1\" class=\"dataframe\">\n",
       "  <thead>\n",
       "    <tr style=\"text-align: right;\">\n",
       "      <th></th>\n",
       "      <th>ID</th>\n",
       "      <th>LIMIT_BAL</th>\n",
       "      <th>SEX</th>\n",
       "      <th>EDUCATION</th>\n",
       "      <th>MARRIAGE</th>\n",
       "      <th>AGE</th>\n",
       "      <th>PAY_0</th>\n",
       "      <th>PAY_2</th>\n",
       "      <th>PAY_3</th>\n",
       "      <th>PAY_4</th>\n",
       "      <th>...</th>\n",
       "      <th>BILL_AMT4</th>\n",
       "      <th>BILL_AMT5</th>\n",
       "      <th>BILL_AMT6</th>\n",
       "      <th>PAY_AMT1</th>\n",
       "      <th>PAY_AMT2</th>\n",
       "      <th>PAY_AMT3</th>\n",
       "      <th>PAY_AMT4</th>\n",
       "      <th>PAY_AMT5</th>\n",
       "      <th>PAY_AMT6</th>\n",
       "      <th>default.payment.next.month</th>\n",
       "    </tr>\n",
       "  </thead>\n",
       "  <tbody>\n",
       "    <tr>\n",
       "      <th>0</th>\n",
       "      <td>1</td>\n",
       "      <td>20000.0</td>\n",
       "      <td>2</td>\n",
       "      <td>2</td>\n",
       "      <td>1</td>\n",
       "      <td>24</td>\n",
       "      <td>2</td>\n",
       "      <td>2</td>\n",
       "      <td>-1</td>\n",
       "      <td>-1</td>\n",
       "      <td>...</td>\n",
       "      <td>0.0</td>\n",
       "      <td>0.0</td>\n",
       "      <td>0.0</td>\n",
       "      <td>0.0</td>\n",
       "      <td>689.0</td>\n",
       "      <td>0.0</td>\n",
       "      <td>0.0</td>\n",
       "      <td>0.0</td>\n",
       "      <td>0.0</td>\n",
       "      <td>1</td>\n",
       "    </tr>\n",
       "    <tr>\n",
       "      <th>1</th>\n",
       "      <td>2</td>\n",
       "      <td>120000.0</td>\n",
       "      <td>2</td>\n",
       "      <td>2</td>\n",
       "      <td>2</td>\n",
       "      <td>26</td>\n",
       "      <td>-1</td>\n",
       "      <td>2</td>\n",
       "      <td>0</td>\n",
       "      <td>0</td>\n",
       "      <td>...</td>\n",
       "      <td>3272.0</td>\n",
       "      <td>3455.0</td>\n",
       "      <td>3261.0</td>\n",
       "      <td>0.0</td>\n",
       "      <td>1000.0</td>\n",
       "      <td>1000.0</td>\n",
       "      <td>1000.0</td>\n",
       "      <td>0.0</td>\n",
       "      <td>2000.0</td>\n",
       "      <td>1</td>\n",
       "    </tr>\n",
       "    <tr>\n",
       "      <th>2</th>\n",
       "      <td>3</td>\n",
       "      <td>90000.0</td>\n",
       "      <td>2</td>\n",
       "      <td>2</td>\n",
       "      <td>2</td>\n",
       "      <td>34</td>\n",
       "      <td>0</td>\n",
       "      <td>0</td>\n",
       "      <td>0</td>\n",
       "      <td>0</td>\n",
       "      <td>...</td>\n",
       "      <td>14331.0</td>\n",
       "      <td>14948.0</td>\n",
       "      <td>15549.0</td>\n",
       "      <td>1518.0</td>\n",
       "      <td>1500.0</td>\n",
       "      <td>1000.0</td>\n",
       "      <td>1000.0</td>\n",
       "      <td>1000.0</td>\n",
       "      <td>5000.0</td>\n",
       "      <td>0</td>\n",
       "    </tr>\n",
       "    <tr>\n",
       "      <th>3</th>\n",
       "      <td>4</td>\n",
       "      <td>50000.0</td>\n",
       "      <td>2</td>\n",
       "      <td>2</td>\n",
       "      <td>1</td>\n",
       "      <td>37</td>\n",
       "      <td>0</td>\n",
       "      <td>0</td>\n",
       "      <td>0</td>\n",
       "      <td>0</td>\n",
       "      <td>...</td>\n",
       "      <td>28314.0</td>\n",
       "      <td>28959.0</td>\n",
       "      <td>29547.0</td>\n",
       "      <td>2000.0</td>\n",
       "      <td>2019.0</td>\n",
       "      <td>1200.0</td>\n",
       "      <td>1100.0</td>\n",
       "      <td>1069.0</td>\n",
       "      <td>1000.0</td>\n",
       "      <td>0</td>\n",
       "    </tr>\n",
       "    <tr>\n",
       "      <th>4</th>\n",
       "      <td>5</td>\n",
       "      <td>50000.0</td>\n",
       "      <td>1</td>\n",
       "      <td>2</td>\n",
       "      <td>1</td>\n",
       "      <td>57</td>\n",
       "      <td>-1</td>\n",
       "      <td>0</td>\n",
       "      <td>-1</td>\n",
       "      <td>0</td>\n",
       "      <td>...</td>\n",
       "      <td>20940.0</td>\n",
       "      <td>19146.0</td>\n",
       "      <td>19131.0</td>\n",
       "      <td>2000.0</td>\n",
       "      <td>36681.0</td>\n",
       "      <td>10000.0</td>\n",
       "      <td>9000.0</td>\n",
       "      <td>689.0</td>\n",
       "      <td>679.0</td>\n",
       "      <td>0</td>\n",
       "    </tr>\n",
       "  </tbody>\n",
       "</table>\n",
       "<p>5 rows × 25 columns</p>\n",
       "</div>"
      ],
      "text/plain": [
       "   ID  LIMIT_BAL  SEX  EDUCATION  MARRIAGE  AGE  PAY_0  PAY_2  PAY_3  PAY_4  \\\n",
       "0   1    20000.0    2          2         1   24      2      2     -1     -1   \n",
       "1   2   120000.0    2          2         2   26     -1      2      0      0   \n",
       "2   3    90000.0    2          2         2   34      0      0      0      0   \n",
       "3   4    50000.0    2          2         1   37      0      0      0      0   \n",
       "4   5    50000.0    1          2         1   57     -1      0     -1      0   \n",
       "\n",
       "   ...  BILL_AMT4  BILL_AMT5  BILL_AMT6  PAY_AMT1  PAY_AMT2  PAY_AMT3  \\\n",
       "0  ...        0.0        0.0        0.0       0.0     689.0       0.0   \n",
       "1  ...     3272.0     3455.0     3261.0       0.0    1000.0    1000.0   \n",
       "2  ...    14331.0    14948.0    15549.0    1518.0    1500.0    1000.0   \n",
       "3  ...    28314.0    28959.0    29547.0    2000.0    2019.0    1200.0   \n",
       "4  ...    20940.0    19146.0    19131.0    2000.0   36681.0   10000.0   \n",
       "\n",
       "   PAY_AMT4  PAY_AMT5  PAY_AMT6  default.payment.next.month  \n",
       "0       0.0       0.0       0.0                           1  \n",
       "1    1000.0       0.0    2000.0                           1  \n",
       "2    1000.0    1000.0    5000.0                           0  \n",
       "3    1100.0    1069.0    1000.0                           0  \n",
       "4    9000.0     689.0     679.0                           0  \n",
       "\n",
       "[5 rows x 25 columns]"
      ]
     },
     "execution_count": 2,
     "metadata": {},
     "output_type": "execute_result"
    }
   ],
   "source": [
    "df = pd.read_csv(\"UCI_Credit_Card.csv\")\n",
    "target = 'default.payment.next.month'\n",
    "\n",
    "print(\"Original shape:\", df.shape)\n",
    "df.head()"
   ]
  },
  {
   "cell_type": "code",
   "execution_count": 3,
   "id": "7122c6bb",
   "metadata": {},
   "outputs": [
    {
     "data": {
      "image/png": "[encoded data removed]",
      "text/plain": [
       "<Figure size 600x600 with 1 Axes>"
      ]
     },
     "metadata": {},
     "output_type": "display_data"
    }
   ],
   "source": [
    "class_counts = df['default.payment.next.month'].value_counts()\n",
    "\n",
    "plt.figure(figsize=(6,6))\n",
    "plt.pie(class_counts, labels=class_counts.index, autopct='%1.1f%%', startangle=90, colors=['skyblue','orange'])\n",
    "plt.title('Class Distribution of Target Variable')\n",
    "plt.show()"
   ]
  },
  {
   "cell_type": "markdown",
   "id": "cc5f6c3a",
   "metadata": {},
   "source": [
    "    Since there is a class imbalance, I will use balanced class weights when training the logistic regression model for this task."
   ]
  },
  {
   "cell_type": "code",
   "execution_count": 4,
   "id": "bebe9c82",
   "metadata": {},
   "outputs": [
    {
     "name": "stdout",
     "output_type": "stream",
     "text": [
      "\n",
      "Missing values after MAR introduction:\n",
      " AGE          1500\n",
      "BILL_AMT1    1500\n",
      "BILL_AMT2    1500\n",
      "dtype: int64\n"
     ]
    }
   ],
   "source": [
    "np.random.seed(42)  # for reproducibility\n",
    "\n",
    "for col in ['AGE', 'BILL_AMT1', 'BILL_AMT2']:\n",
    "    n_missing = int(0.05 * len(df))  # 5% missing values\n",
    "    missing_indices = np.random.choice(df.index, n_missing, replace=False)\n",
    "    df.loc[missing_indices, col] = np.nan\n",
    "\n",
    "print(\"\\nMissing values after MAR introduction:\\n\", df[['AGE', 'BILL_AMT1', 'BILL_AMT2']].isnull().sum())"
   ]
  },
  {
   "cell_type": "markdown",
   "id": "b6d06ad9",
   "metadata": {},
   "source": [
    "#### 2. Imputation Strategy 1: Simple Imputation (Baseline) "
   ]
  },
  {
   "cell_type": "code",
   "execution_count": 5,
   "id": "cb9d6595",
   "metadata": {},
   "outputs": [
    {
     "name": "stdout",
     "output_type": "stream",
     "text": [
      "\n",
      "After Median Imputation (Dataset A):\n",
      "AGE          0\n",
      "BILL_AMT1    0\n",
      "BILL_AMT2    0\n",
      "dtype: int64\n"
     ]
    }
   ],
   "source": [
    "dataset_A = df.copy()\n",
    "\n",
    "for col in ['AGE', 'BILL_AMT1', 'BILL_AMT2']:\n",
    "    median_value = dataset_A[col].median()\n",
    "    dataset_A[col] = dataset_A[col].fillna(median_value)\n",
    "\n",
    "print(\"\\nAfter Median Imputation (Dataset A):\")\n",
    "print(dataset_A[['AGE', 'BILL_AMT1', 'BILL_AMT2']].isnull().sum())"
   ]
  },
  {
   "cell_type": "markdown",
   "id": "fbbc5606",
   "metadata": {},
   "source": [
    "    Median is often preferred over mean for imputation because:\n",
    "        1. It is less sensitive to outliers (robust measure of central tendency).\n",
    "        2. It better preserves the distribution shape for skewed data."
   ]
  },
  {
   "cell_type": "markdown",
   "id": "2e69d405",
   "metadata": {},
   "source": [
    "#### 3. Imputation Strategy 2: Regression Imputation (Linear)"
   ]
  },
  {
   "cell_type": "code",
   "execution_count": 6,
   "id": "8ccc9e03",
   "metadata": {},
   "outputs": [],
   "source": [
    "dataset_B = df.copy()\n",
    "\n",
    "# Choosing 'AGE' for regression-based imputation\n",
    "train_data = dataset_B[dataset_B['AGE'].notnull()]\n",
    "test_data = dataset_B[dataset_B['AGE'].isnull()]\n",
    "\n",
    "# Using only features without missing values\n",
    "non_missing_features = [col for col in dataset_B.columns\n",
    "                        if col not in ['AGE', target] and dataset_B[col].notnull().all()]\n",
    "\n",
    "X_train = train_data[non_missing_features]\n",
    "y_train = train_data['AGE']\n",
    "X_test = test_data[non_missing_features]\n"
   ]
  },
  {
   "cell_type": "code",
   "execution_count": 7,
   "id": "26a98eb8",
   "metadata": {},
   "outputs": [
    {
     "name": "stdout",
     "output_type": "stream",
     "text": [
      "\n",
      "After Linear Regression Imputation (Dataset B):\n",
      "0\n"
     ]
    }
   ],
   "source": [
    "# Training Linear Regression model\n",
    "lr_model = LinearRegression()\n",
    "lr_model.fit(X_train, y_train)\n",
    "\n",
    "# Predicting missing AGE values\n",
    "dataset_B.loc[dataset_B['AGE'].isnull(), 'AGE'] = lr_model.predict(X_test)\n",
    "\n",
    "print(\"\\nAfter Linear Regression Imputation (Dataset B):\")\n",
    "print(dataset_B['AGE'].isnull().sum())"
   ]
  },
  {
   "cell_type": "markdown",
   "id": "96498f07",
   "metadata": {},
   "source": [
    "    Regression imputation assumes the data is Missing At Random (MAR), meaning that the probability of missingness depends on other observed variables, not on the missing values themselves."
   ]
  },
  {
   "cell_type": "markdown",
   "id": "c95ef953",
   "metadata": {},
   "source": [
    "#### 4. Imputation Strategy 3: Regression Imputation (Non-Linear) "
   ]
  },
  {
   "cell_type": "code",
   "execution_count": 8,
   "id": "1d160dc3",
   "metadata": {},
   "outputs": [],
   "source": [
    "dataset_C = df.copy()\n",
    "\n",
    "# Choosing same column ('AGE')\n",
    "train_data = dataset_C[dataset_C['AGE'].notnull()]\n",
    "test_data = dataset_C[dataset_C['AGE'].isnull()]\n",
    "\n",
    "# Using only features without missing values\n",
    "non_missing_features = [col for col in dataset_C.columns\n",
    "                        if col not in ['AGE', target] and dataset_C[col].notnull().all()]\n",
    "\n",
    "X_train = train_data[non_missing_features]\n",
    "y_train = train_data['AGE']\n",
    "X_test = test_data[non_missing_features]\n"
   ]
  },
  {
   "cell_type": "code",
   "execution_count": 9,
   "id": "fe93b37d",
   "metadata": {},
   "outputs": [
    {
     "name": "stdout",
     "output_type": "stream",
     "text": [
      "\n",
      "After Decision Tree Imputation (Dataset C):\n",
      "0\n"
     ]
    }
   ],
   "source": [
    "# Using Decision Tree Regressor\n",
    "tree_model = DecisionTreeRegressor(random_state=42)\n",
    "tree_model.fit(X_train, y_train)\n",
    "\n",
    "# Predicting missing values\n",
    "dataset_C.loc[dataset_C['AGE'].isnull(), 'AGE'] = tree_model.predict(X_test)\n",
    "\n",
    "print(\"\\nAfter Decision Tree Imputation (Dataset C):\")\n",
    "print(dataset_C['AGE'].isnull().sum())"
   ]
  },
  {
   "cell_type": "markdown",
   "id": "494eb76e",
   "metadata": {},
   "source": [
    "### Part B: Model Training and Performance Assessment"
   ]
  },
  {
   "cell_type": "markdown",
   "id": "a189aa61",
   "metadata": {},
   "source": [
    "#### 1. Data Split "
   ]
  },
  {
   "cell_type": "code",
   "execution_count": 10,
   "id": "8d21d955",
   "metadata": {},
   "outputs": [
    {
     "name": "stdout",
     "output_type": "stream",
     "text": [
      "Train/Test sizes:\n",
      "A: (24000, 24), (6000, 24)\n",
      "B: (21659, 24), (5415, 24)\n",
      "C: (21659, 24), (5415, 24)\n",
      "D: (20582, 24), (5146, 24)\n"
     ]
    }
   ],
   "source": [
    "target = 'default.payment.next.month'\n",
    "\n",
    "# Dataset D: Listwise deletion (removing rows with any NaN)\n",
    "dataset_D = df.dropna().copy()\n",
    "\n",
    "def split_data(data, target_col):\n",
    "    data=data.dropna()  # deleting rows which have nulls as mentioned in the mail\n",
    "    X = data.drop(columns=[target_col])\n",
    "    y = data[target_col]\n",
    "    return train_test_split(X, y, test_size=0.2, random_state=42, stratify=y)\n",
    "\n",
    "X_A_train, X_A_test, y_A_train, y_A_test = split_data(dataset_A, target)\n",
    "X_B_train, X_B_test, y_B_train, y_B_test = split_data(dataset_B, target)\n",
    "X_C_train, X_C_test, y_C_train, y_C_test = split_data(dataset_C, target)\n",
    "X_D_train, X_D_test, y_D_train, y_D_test = split_data(dataset_D, target)\n",
    "\n",
    "print(\"Train/Test sizes:\")\n",
    "print(f\"A: {X_A_train.shape}, {X_A_test.shape}\")\n",
    "print(f\"B: {X_B_train.shape}, {X_B_test.shape}\")\n",
    "print(f\"C: {X_C_train.shape}, {X_C_test.shape}\")\n",
    "print(f\"D: {X_D_train.shape}, {X_D_test.shape}\")"
   ]
  },
  {
   "cell_type": "markdown",
   "id": "2e15aa64",
   "metadata": {},
   "source": [
    "#### 2. Classifier Setup"
   ]
  },
  {
   "cell_type": "code",
   "execution_count": 11,
   "id": "2e6d3c23",
   "metadata": {},
   "outputs": [],
   "source": [
    "scaler = StandardScaler()\n",
    "\n",
    "def scale_data(X_train, X_test):\n",
    "    X_train_scaled = scaler.fit_transform(X_train)\n",
    "    X_test_scaled = scaler.transform(X_test)\n",
    "    return X_train_scaled, X_test_scaled\n",
    "\n",
    "X_A_train_s, X_A_test_s = scale_data(X_A_train, X_A_test)\n",
    "X_B_train_s, X_B_test_s = scale_data(X_B_train, X_B_test)\n",
    "X_C_train_s, X_C_test_s = scale_data(X_C_train, X_C_test)\n",
    "X_D_train_s, X_D_test_s = scale_data(X_D_train, X_D_test)"
   ]
  },
  {
   "cell_type": "markdown",
   "id": "766745e7",
   "metadata": {},
   "source": [
    "#### 3. Model Evaluation"
   ]
  },
  {
   "cell_type": "code",
   "execution_count": 12,
   "id": "fa89456b",
   "metadata": {},
   "outputs": [
    {
     "name": "stdout",
     "output_type": "stream",
     "text": [
      "\n",
      "==== Classification Report for Dataset A (Median Imputation) ===="
     ]
    },
    {
     "name": "stdout",
     "output_type": "stream",
     "text": [
      "\n",
      "              precision    recall  f1-score   support\n",
      "\n",
      "           0     0.8665    0.6957    0.7718      4673\n",
      "           1     0.3674    0.6225    0.4621      1327\n",
      "\n",
      "    accuracy                         0.6795      6000\n",
      "   macro avg     0.6170    0.6591    0.6169      6000\n",
      "weighted avg     0.7561    0.6795    0.7033      6000\n",
      "\n",
      "\n",
      "==== Classification Report for Dataset B (Linear Regression Imputation) ====\n",
      "              precision    recall  f1-score   support\n",
      "\n",
      "           0     0.8776    0.7001    0.7788      4218\n",
      "           1     0.3829    0.6558    0.4835      1197\n",
      "\n",
      "    accuracy                         0.6903      5415\n",
      "   macro avg     0.6302    0.6780    0.6312      5415\n",
      "weighted avg     0.7682    0.6903    0.7136      5415\n",
      "\n",
      "\n",
      "==== Classification Report for Dataset C (Decision Tree Imputation) ====\n",
      "              precision    recall  f1-score   support\n",
      "\n",
      "           0     0.8773    0.6999    0.7786      4218\n",
      "           1     0.3824    0.6550    0.4829      1197\n",
      "\n",
      "    accuracy                         0.6899      5415\n",
      "   macro avg     0.6299    0.6774    0.6307      5415\n",
      "weighted avg     0.7679    0.6899    0.7132      5415\n",
      "\n",
      "\n",
      "==== Classification Report for Dataset D (Listwise Deletion) ====\n",
      "              precision    recall  f1-score   support\n",
      "\n",
      "           0     0.8735    0.7095    0.7830      4010\n",
      "           1     0.3833    0.6373    0.4787      1136\n",
      "\n",
      "    accuracy                         0.6935      5146\n",
      "   macro avg     0.6284    0.6734    0.6308      5146\n",
      "weighted avg     0.7653    0.6935    0.7158      5146\n",
      "\n"
     ]
    }
   ],
   "source": [
    "def train_and_evaluate(X_train, X_test, y_train, y_test, label):\n",
    "    model = LogisticRegression(max_iter=1000, random_state=42,class_weight=\"balanced\") # classes are imbalanced so using class_wight=balanced\n",
    "    model.fit(X_train, y_train)\n",
    "    y_pred = model.predict(X_test)\n",
    "    print(f\"\\n==== Classification Report for Dataset {label} ====\")\n",
    "    print(classification_report(y_test, y_pred, digits=4))\n",
    "\n",
    "# Train + Evaluate for each dataset\n",
    "train_and_evaluate(X_A_train_s, X_A_test_s, y_A_train, y_A_test, \"A (Median Imputation)\")\n",
    "train_and_evaluate(X_B_train_s, X_B_test_s, y_B_train, y_B_test, \"B (Linear Regression Imputation)\")\n",
    "train_and_evaluate(X_C_train_s, X_C_test_s, y_C_train, y_C_test, \"C (Decision Tree Imputation)\")\n",
    "train_and_evaluate(X_D_train_s, X_D_test_s, y_D_train, y_D_test, \"D (Listwise Deletion)\")"
   ]
  },
  {
   "cell_type": "markdown",
   "id": "65017539",
   "metadata": {},
   "source": [
    "### Part C: Comparative Analysis"
   ]
  },
  {
   "cell_type": "markdown",
   "id": "cfd26879",
   "metadata": {},
   "source": [
    "#### 1. Results Comparison"
   ]
  },
  {
   "cell_type": "code",
   "execution_count": 13,
   "id": "408475f6",
   "metadata": {},
   "outputs": [],
   "source": [
    "# Train models again and collect predictions for comparison\n",
    "def get_model_predictions(X_train, X_test, y_train):\n",
    "    model = LogisticRegression(max_iter=1000, random_state=42,class_weight=\"balanced\")\n",
    "    model.fit(X_train, y_train)\n",
    "    y_pred = model.predict(X_test)\n",
    "    return y_pred\n",
    "\n",
    "# Generate predictions\n",
    "y_A_pred = get_model_predictions(X_A_train_s, X_A_test_s, y_A_train)\n",
    "y_B_pred = get_model_predictions(X_B_train_s, X_B_test_s, y_B_train)\n",
    "y_C_pred = get_model_predictions(X_C_train_s, X_C_test_s, y_C_train)\n",
    "y_D_pred = get_model_predictions(X_D_train_s, X_D_test_s, y_D_train)\n"
   ]
  },
  {
   "cell_type": "code",
   "execution_count": 14,
   "id": "baa0f0c3",
   "metadata": {},
   "outputs": [
    {
     "name": "stdout",
     "output_type": "stream",
     "text": [
      "==== Comparative Analysis Summary ====\n"
     ]
    },
    {
     "data": {
      "text/html": [
       "<div>\n",
       "<style scoped>\n",
       "    .dataframe tbody tr th:only-of-type {\n",
       "        vertical-align: middle;\n",
       "    }\n",
       "\n",
       "    .dataframe tbody tr th {\n",
       "        vertical-align: top;\n",
       "    }\n",
       "\n",
       "    .dataframe thead th {\n",
       "        text-align: right;\n",
       "    }\n",
       "</style>\n",
       "<table border=\"1\" class=\"dataframe\">\n",
       "  <thead>\n",
       "    <tr style=\"text-align: right;\">\n",
       "      <th></th>\n",
       "      <th>Model</th>\n",
       "      <th>Accuracy</th>\n",
       "      <th>Precision</th>\n",
       "      <th>Recall</th>\n",
       "      <th>F1-score</th>\n",
       "    </tr>\n",
       "  </thead>\n",
       "  <tbody>\n",
       "    <tr>\n",
       "      <th>0</th>\n",
       "      <td>A (Median Imputation)</td>\n",
       "      <td>0.6795</td>\n",
       "      <td>0.3674</td>\n",
       "      <td>0.6225</td>\n",
       "      <td>0.4621</td>\n",
       "    </tr>\n",
       "    <tr>\n",
       "      <th>1</th>\n",
       "      <td>B (Linear Regression Imputation)</td>\n",
       "      <td>0.6903</td>\n",
       "      <td>0.3829</td>\n",
       "      <td>0.6558</td>\n",
       "      <td>0.4835</td>\n",
       "    </tr>\n",
       "    <tr>\n",
       "      <th>2</th>\n",
       "      <td>C (Decision Tree Imputation)</td>\n",
       "      <td>0.6899</td>\n",
       "      <td>0.3824</td>\n",
       "      <td>0.6550</td>\n",
       "      <td>0.4829</td>\n",
       "    </tr>\n",
       "    <tr>\n",
       "      <th>3</th>\n",
       "      <td>D (Listwise Deletion)</td>\n",
       "      <td>0.6935</td>\n",
       "      <td>0.3833</td>\n",
       "      <td>0.6373</td>\n",
       "      <td>0.4787</td>\n",
       "    </tr>\n",
       "  </tbody>\n",
       "</table>\n",
       "</div>"
      ],
      "text/plain": [
       "                              Model  Accuracy  Precision  Recall  F1-score\n",
       "0             A (Median Imputation)    0.6795     0.3674  0.6225    0.4621\n",
       "1  B (Linear Regression Imputation)    0.6903     0.3829  0.6558    0.4835\n",
       "2      C (Decision Tree Imputation)    0.6899     0.3824  0.6550    0.4829\n",
       "3             D (Listwise Deletion)    0.6935     0.3833  0.6373    0.4787"
      ]
     },
     "metadata": {},
     "output_type": "display_data"
    }
   ],
   "source": [
    "# Function to compute metrics\n",
    "def compute_metrics(y_true, y_pred):\n",
    "    return {\n",
    "        'Accuracy': accuracy_score(y_true, y_pred),\n",
    "        'Precision': precision_score(y_true, y_pred),\n",
    "        'Recall': recall_score(y_true, y_pred),\n",
    "        'F1-score': f1_score(y_true, y_pred)\n",
    "    }\n",
    "\n",
    "# Compute metrics\n",
    "metrics_A = compute_metrics(y_A_test, y_A_pred)\n",
    "metrics_B = compute_metrics(y_B_test, y_B_pred)\n",
    "metrics_C = compute_metrics(y_C_test, y_C_pred)\n",
    "metrics_D = compute_metrics(y_D_test, y_D_pred)\n",
    "\n",
    "# Create summary DataFrame\n",
    "summary_df = pd.DataFrame({\n",
    "    'Model': ['A (Median Imputation)', \n",
    "              'B (Linear Regression Imputation)', \n",
    "              'C (Decision Tree Imputation)', \n",
    "              'D (Listwise Deletion)'],\n",
    "    'Accuracy': [metrics_A['Accuracy'], metrics_B['Accuracy'], metrics_C['Accuracy'], metrics_D['Accuracy']],\n",
    "    'Precision': [metrics_A['Precision'], metrics_B['Precision'], metrics_C['Precision'], metrics_D['Precision']],\n",
    "    'Recall': [metrics_A['Recall'], metrics_B['Recall'], metrics_C['Recall'], metrics_D['Recall']],\n",
    "    'F1-score': [metrics_A['F1-score'], metrics_B['F1-score'], metrics_C['F1-score'], metrics_D['F1-score']]\n",
    "})\n",
    "\n",
    "# Round metrics for readability\n",
    "summary_df[['Accuracy','Precision','Recall','F1-score']] = summary_df[['Accuracy','Precision','Recall','F1-score']].round(4)\n",
    "\n",
    "print(\"==== Comparative Analysis Summary ====\")\n",
    "display(summary_df)"
   ]
  },
  {
   "cell_type": "markdown",
   "id": "1d2972c0",
   "metadata": {},
   "source": [
    "#### 2. Efficacy Discussion"
   ]
  },
  {
   "cell_type": "markdown",
   "id": "30ed5276",
   "metadata": {},
   "source": [
    "### 1️. Trade-off between Listwise Deletion (Model D) and Imputation (Models A, B, C)\n",
    "\n",
    "**Listwise Deletion (Model D)** achieved the highest **accuracy (0.6935)** but a slightly lower **F1-score (0.4787)** compared to the imputation-based models (**A: 0.4621**, **B: 0.4835**, **C: 0.4829**).  \n",
    "While deleting all rows with missing data ensures the model is trained on only complete records, it also reduces the dataset size, which may lead to loss of valuable information and lower generalization when missing data is common.  \n",
    "\n",
    "In contrast, the **imputation models (A, B, C)** retained all samples by estimating missing values, leading to a better balance between precision and recall.  \n",
    "Although imputation may introduce small prediction errors, it helps preserve the overall data distribution and improves **recall**, which is crucial when dealing with imbalanced classes.\n"
   ]
  },
  {
   "cell_type": "markdown",
   "id": "b2b4df07",
   "metadata": {},
   "source": [
    "### 2️. Linear vs. Non-Linear Regression Imputation\n",
    "\n",
    "The **Linear Regression Imputation (Model B)** slightly outperformed the **Decision Tree Imputation (Model C)** (**F1 = 0.4835 vs. 0.4829**).  \n",
    "This suggests that the relationship between the imputed feature (e.g., *BILL_AMT2*) and other predictors is mostly **linear**, allowing a simple model to capture it effectively.  \n",
    "\n",
    "The **Decision Tree** could model non-linear patterns but might have slightly **overfitted** to local variations in the data, resulting in almost similar performance.\n"
   ]
  },
  {
   "cell_type": "markdown",
   "id": "1beeb044",
   "metadata": {},
   "source": [
    "### 3️. Recommendation\n",
    "\n",
    "Given these results, **Linear Regression Imputation (Model B)** offers the best trade-off between **accuracy, recall, and F1-score**. It maintains data completeness without unnecessary complexity.  \n",
    "\n",
    "However, when the missing rate is low, **Listwise Deletion (Model D)** can still perform competitively with less preprocessing effort.  \n",
    "\n",
    "Overall, **Regression-based Imputation (Model B)** is recommended for this dataset, as it handles missing data effectively while preserving the overall model performance and interpretability.\n"
   ]
  }
 ],
 "metadata": {
  "kernelspec": {
   "display_name": "Python 3",
   "language": "python",
   "name": "python3"
  },
  "language_info": {
   "codemirror_mode": {
    "name": "ipython",
    "version": 3
   },
   "file_extension": ".py",
   "mimetype": "text/x-python",
   "name": "python",
   "nbconvert_exporter": "python",
   "pygments_lexer": "ipython3",
   "version": "3.10.11"
  }
 },
 "nbformat": 4,
 "nbformat_minor": 5
}
